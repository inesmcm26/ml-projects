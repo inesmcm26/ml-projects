{
 "cells": [
  {
   "cell_type": "markdown",
   "metadata": {},
   "source": [
    "# CNN - Convolutional Neural Networks"
   ]
  },
  {
   "cell_type": "markdown",
   "metadata": {},
   "source": [
    "## CNN Architecture\n",
    "\n",
    "#### Feature extraction:\n",
    "1. Input Layer\n",
    "2. Convolutional Layer\n",
    "3. Pooling Layer\n",
    "\n",
    "#### Classification:\n",
    "4. Fully Connected Layer\n",
    "5. Output Layer"
   ]
  },
  {
   "cell_type": "markdown",
   "metadata": {},
   "source": [
    "## __1.__ Input Layer"
   ]
  },
  {
   "cell_type": "code",
   "execution_count": 3,
   "metadata": {},
   "outputs": [],
   "source": [
    "import numpy as np\n",
    "from skimage.util.shape import view_as_windows\n",
    "from numpy.lib.stride_tricks import as_strided\n",
    " \n",
    "# *******************************************************************************\n",
    "# Input Layer\n",
    "# *******************************************************************************\n",
    " \n",
    "input_data_list= [\n",
    "[-1,1,1, 1, -1],\n",
    "[-1,1,-1, 1,-1],\n",
    "[-1,1, 1, 1,-1],\n",
    "[-1,-1,-1,1,-1],\n",
    "[-1,-1,-1,1,-1],\n",
    "[-1,-1,1,-1,-1],\n",
    "[-1,1,-1,-1,-1]\n",
    " \n",
    "]\n",
    " \n",
    "# Convert list to input data matrix\n",
    "input_data_matrix = np.array(input_data_list, dtype=np.float32)"
   ]
  },
  {
   "cell_type": "code",
   "execution_count": 4,
   "metadata": {},
   "outputs": [
    {
     "data": {
      "text/plain": [
       "array([[-1.,  1.,  1.,  1., -1.],\n",
       "       [-1.,  1., -1.,  1., -1.],\n",
       "       [-1.,  1.,  1.,  1., -1.],\n",
       "       [-1., -1., -1.,  1., -1.],\n",
       "       [-1., -1., -1.,  1., -1.],\n",
       "       [-1., -1.,  1., -1., -1.],\n",
       "       [-1.,  1., -1., -1., -1.]], dtype=float32)"
      ]
     },
     "execution_count": 4,
     "metadata": {},
     "output_type": "execute_result"
    }
   ],
   "source": [
    "input_data_matrix"
   ]
  },
  {
   "cell_type": "markdown",
   "metadata": {},
   "source": [
    "## __2.__ Convolutional Layer\n",
    "\n",
    "- A set of neurons recognizes a features, and another set of neurons recognizes another feature etc.\n",
    "- How to recognize features? Filter/Kernel\n",
    "    Ex.:\n",
    "    - Box type filter: k x k box\n",
    "    - Vertical line filter: k x 1 line\n",
    "    - Diagonal line filter\n",
    "    \n",
    "        1. Line up the image path and the filter/kernel\n",
    "        2. Multiply each pixel with the corresponding filter pixel\n",
    "        3. Add them up\n",
    "        4. Find the average by dividing with the total nr of elements of the filter matrix\n",
    "\n",
    "- Resulting matrix (Feature map): n x m input * k x l kernel = n x l feature map\n",
    "- In the feature map, when we see a number close to 1 it means that in that box we recognize a shape equal to the filter we applied\n",
    "\n",
    "- As a result: filters are feature selectors\n"
   ]
  },
  {
   "cell_type": "code",
   "execution_count": 14,
   "metadata": {},
   "outputs": [
    {
     "name": "stdout",
     "output_type": "stream",
     "text": [
      "Box filter:\n",
      "[[-0.11  1.   -0.11]\n",
      " [-0.56  0.11 -0.33]\n",
      " [-0.33  0.33 -0.33]\n",
      " [-0.56 -0.11 -0.56]\n",
      " [-0.33 -0.56 -0.33]]\n",
      "Vertical filter:\n",
      "[[ 0.56 -0.56  0.56]\n",
      " [ 0.56 -0.56  0.78]\n",
      " [ 0.33 -0.33  0.78]\n",
      " [ 0.11  0.11  0.56]\n",
      " [ 0.33  0.11  0.33]]\n",
      "Diagonal filter:\n",
      "[[ 0.11 -0.56  0.11]\n",
      " [ 0.11 -0.11 -0.11]\n",
      " [ 0.33 -0.33 -0.11]\n",
      " [ 0.11  0.11  0.56]\n",
      " [-0.11  1.   -0.11]]\n"
     ]
    }
   ],
   "source": [
    "# *******************************************************************************\n",
    "# Convolution layer (convolution operation)\n",
    "# *******************************************************************************\n",
    " \n",
    "box_filter_matrix = np.array([\n",
    "[1, 1,1],\n",
    "[1,-1,1],\n",
    "[1, 1,1]\n",
    "])\n",
    " \n",
    "vertical_line_Filter_matrix = np.array([\n",
    "[-1, 1, -1],\n",
    "[-1, 1, -1],\n",
    "[-1, 1, -1]\n",
    "])\n",
    " \n",
    "Diagonal_line_Filter_matrix = np.array([\n",
    "[-1, -1, 1],\n",
    "[-1, 1, -1],\n",
    "[1, -1, -1]\n",
    "])\n",
    " \n",
    "# Extract each window from input matrix by stride operation\n",
    "def strided4D_v2(input_image_matrix,kernel_matrix,stride):\n",
    "    return view_as_windows(input_image_matrix, kernel_matrix.shape, step=stride)\n",
    " \n",
    "# Calculate shape of the feature map (output matrix from convolution layer)\n",
    "featureMap_row = strided4D_v2(input_data_matrix, box_filter_matrix, 1).shape[0]\n",
    "featureMap_col = strided4D_v2(input_data_matrix, box_filter_matrix, 1).shape[1]\n",
    " \n",
    "\n",
    "def conv2d(input_matrix, kernel_matrix):\n",
    "    \"\"\" \n",
    "     Function to Calculate featuremap matrix for box filter\n",
    "    \"\"\"\n",
    "    # Create blank featureMap matrix for stride 1\n",
    "    featureMap_Output = np.zeros((featureMap_row, featureMap_col))\n",
    " \n",
    "    # calculate filter for each position of the feature map matrix\n",
    "    for row in range(featureMap_row):\n",
    "        for col in range(featureMap_col):\n",
    "            # from all windows, extract the one corresponding to current position on feature map matrix\n",
    "            window = strided4D_v2(input_matrix, kernel_matrix, 1)[row][col]\n",
    "            featureMap_Output[row, col] = np.sum(np.multiply(kernel_matrix, window))\n",
    " \n",
    "            # To Format floats in a numpy array\n",
    "            np.set_printoptions(precision=2)\n",
    "            # Taking average with divided by 9 (total number of element in filter matrix)\n",
    "    \n",
    "    filter_matrix_dim = kernel_matrix.shape[0] * kernel_matrix.shape[0]\n",
    "\n",
    "    return (featureMap_Output / filter_matrix_dim)\n",
    " \n",
    "# ------------------------------------------------------------------------\n",
    "# Box Filter operation\n",
    "# ------------------------------------------------------------------------\n",
    "# Create blank featureMap matrix for stride 1\n",
    "featureMap_Box = conv2d(input_data_matrix, box_filter_matrix)\n",
    "print('Box filter:')\n",
    "print(featureMap_Box)\n",
    " \n",
    "# ------------------------------------------------------------------------\n",
    "# Vertical line Filter operation\n",
    "# ------------------------------------------------------------------------\n",
    "featureMap_Vertical = conv2d(input_data_matrix, vertical_line_Filter_matrix)\n",
    "print('Vertical filter:')\n",
    "print(featureMap_Vertical)\n",
    " \n",
    "# ------------------------------------------------------------------------\n",
    "# Diagonal line Filter operation\n",
    "# ------------------------------------------------------------------------\n",
    "# Output after applying Diagonal line Filter with stride 1\n",
    "featureMap_Diagonal = conv2d(input_data_matrix, Diagonal_line_Filter_matrix)\n",
    "print('Diagonal filter:')\n",
    "print(featureMap_Diagonal)"
   ]
  },
  {
   "cell_type": "markdown",
   "metadata": {},
   "source": [
    "### Relu activation"
   ]
  },
  {
   "cell_type": "code",
   "execution_count": 16,
   "metadata": {},
   "outputs": [
    {
     "name": "stdout",
     "output_type": "stream",
     "text": [
      "Box filter ReLu:\n",
      "[[0.   1.   0.  ]\n",
      " [0.   0.11 0.  ]\n",
      " [0.   0.33 0.  ]\n",
      " [0.   0.   0.  ]\n",
      " [0.   0.   0.  ]]\n",
      "Vertical filter ReLu:\n",
      "[[0.56 0.   0.56]\n",
      " [0.56 0.   0.78]\n",
      " [0.33 0.   0.78]\n",
      " [0.11 0.11 0.56]\n",
      " [0.33 0.11 0.33]]\n",
      "Diagonal filter ReLu:\n",
      "[[0.11 0.   0.11]\n",
      " [0.11 0.   0.  ]\n",
      " [0.33 0.   0.  ]\n",
      " [0.11 0.11 0.56]\n",
      " [0.   1.   0.  ]]\n"
     ]
    }
   ],
   "source": [
    "# *******************************************************************************\n",
    "# ReLu Operation\n",
    "# *******************************************************************************\n",
    "featureMap_Box_ReLu = np.maximum(featureMap_Box, 0)\n",
    "featureMap_Vertical_ReLu = np.maximum(featureMap_Vertical, 0)\n",
    "featureMap_Diagonal_ReLu = np.maximum(featureMap_Diagonal, 0)\n",
    " \n",
    "\n",
    "print('Box filter ReLu:')\n",
    "print(featureMap_Box_ReLu)\n",
    "\n",
    "print('Vertical filter ReLu:')\n",
    "print(featureMap_Vertical_ReLu)\n",
    "\n",
    "print('Diagonal filter ReLu:')\n",
    "print(featureMap_Diagonal_ReLu)"
   ]
  },
  {
   "cell_type": "markdown",
   "metadata": {},
   "source": [
    "## __3.__ Pooling Layer\n",
    "\n",
    "Used to reduce size of the image - solves computation cost issue and aldo reduced overfitting\n",
    "\n",
    "- Max Pooling:\n",
    "Given a window k x k and a feature matrix n x l -> computes n x k matrix by taking the maximum of each window\n",
    "- Avg Pooling:\n",
    "Same but instead of takin the macimum, takes the average\n",
    "\n",
    "After pooling, the position of the feature is still detected but the dimension got reduced"
   ]
  },
  {
   "cell_type": "code",
   "execution_count": 24,
   "metadata": {},
   "outputs": [
    {
     "name": "stdout",
     "output_type": "stream",
     "text": [
      "Box pooling ReLu:\n",
      "[[1.   1.  ]\n",
      " [0.33 0.33]\n",
      " [0.33 0.33]\n",
      " [0.   0.  ]]\n",
      "Vertical pooling ReLu:\n",
      "[[0.56 0.78]\n",
      " [0.56 0.78]\n",
      " [0.33 0.78]\n",
      " [0.33 0.56]]\n",
      "Diagonal pooling ReLu:\n",
      "[[0.11 0.11]\n",
      " [0.33 0.  ]\n",
      " [0.33 0.56]\n",
      " [1.   1.  ]]\n"
     ]
    }
   ],
   "source": [
    "# *******************************************************************************\n",
    "# Pooling Layer\n",
    "# *******************************************************************************\n",
    " \n",
    "# Pooling function with stride using python and numpy\n",
    "def pool2d(input_matrix, kernel_size, stride, padding, pool_mode='max'):\n",
    "\n",
    " \n",
    "    # Padding\n",
    "    input_matrix = np.pad(input_matrix, padding, mode='constant')\n",
    " \n",
    "    # Window view of input_matrix\n",
    "    output_shape = ((input_matrix.shape[0] - kernel_size)//stride + 1,\n",
    "                    (input_matrix.shape[1] - kernel_size)//stride + 1)\n",
    "    kernel_size = (kernel_size, kernel_size)\n",
    "    input_matrix_w = as_strided(input_matrix, shape = output_shape + kernel_size,\n",
    "                        strides = (stride*input_matrix.strides[0],\n",
    "                                   stride*input_matrix.strides[1]) + input_matrix.strides)\n",
    "    input_matrix_w = input_matrix_w.reshape(-1, *kernel_size)\n",
    " \n",
    "    # Return the result of pooling\n",
    "    # For Max Pooling\n",
    "    if pool_mode == 'max':\n",
    "        return input_matrix_w.max(axis=(1,2)).reshape(output_shape)\n",
    "    # For Average Pooling\n",
    "    elif pool_mode == 'avg':\n",
    "        return input_matrix_w.mean(axis=(1,2)).reshape(output_shape)\n",
    " \n",
    "# Max Pooling with 2x2 filter & Stride = 1\n",
    "featureMap_Box_ReLu_MaxPool = pool2d(featureMap_Box_ReLu, kernel_size=2, stride=1, padding=0, pool_mode='max')\n",
    "featureMap_Vertical_ReLu_MaxPool = pool2d(featureMap_Vertical_ReLu, kernel_size=2, stride=1, padding=0, pool_mode='max')\n",
    "featureMap_Diagonal_ReLu_MaxPool = pool2d(featureMap_Diagonal_ReLu, kernel_size=2, stride=1, padding=0, pool_mode='max')\n",
    "\n",
    "\n",
    "print('Box pooling ReLu:')\n",
    "print(featureMap_Box_ReLu_MaxPool)\n",
    "\n",
    "print('Vertical pooling ReLu:')\n",
    "print(featureMap_Vertical_ReLu_MaxPool)\n",
    "\n",
    "print('Diagonal pooling ReLu:')\n",
    "print(featureMap_Diagonal_ReLu_MaxPool)\n"
   ]
  },
  {
   "cell_type": "markdown",
   "metadata": {},
   "source": [
    "## __4.__ Fully Connected Layer & Output Layer\n",
    "\n",
    "We need to Flatten each pooling layer output and stack them\n",
    "\n",
    "All features have been extracted (using all possible kernels)\n",
    "\n",
    "Now we just want to apply a basic neural network to classify the image"
   ]
  },
  {
   "cell_type": "code",
   "execution_count": 30,
   "metadata": {},
   "outputs": [
    {
     "name": "stdout",
     "output_type": "stream",
     "text": [
      "[[1.0, 1.0], [0.3333333333333333, 0.3333333333333333], [0.3333333333333333, 0.3333333333333333], [0.0, 0.0]]\n",
      "[[0.1111111111111111, 0.1111111111111111], [0.3333333333333333, 0.0], [0.3333333333333333, 0.5555555555555556], [1.0, 1.0]]\n",
      "[[0.1111111111111111, 0.1111111111111111], [0.3333333333333333, 0.0], [0.3333333333333333, 0.5555555555555556], [1.0, 1.0]]\n",
      "-------------------------------------------------\n",
      "[1.0, 1.0, 0.3333333333333333, 0.3333333333333333, 0.3333333333333333, 0.3333333333333333, 0.0, 0.0]\n",
      "[0.1111111111111111, 0.1111111111111111, 0.3333333333333333, 0.0, 0.3333333333333333, 0.5555555555555556, 1.0, 1.0]\n",
      "[0.1111111111111111, 0.1111111111111111, 0.3333333333333333, 0.0, 0.3333333333333333, 0.5555555555555556, 1.0, 1.0]\n",
      "-------------------------------------------------\n",
      "[1.0, 1.0, 0.3333333333333333, 0.3333333333333333, 0.3333333333333333, 0.3333333333333333, 0.0, 0.0, 0.1111111111111111, 0.1111111111111111, 0.3333333333333333, 0.0, 0.3333333333333333, 0.5555555555555556, 1.0, 1.0, 0.1111111111111111, 0.1111111111111111, 0.3333333333333333, 0.0, 0.3333333333333333, 0.5555555555555556, 1.0, 1.0]\n"
     ]
    }
   ],
   "source": [
    "# *******************************************************************************\n",
    "# Fully Connected Layer\n",
    "# *******************************************************************************\n",
    "# Convert array to list\n",
    "featureMap_Box_ReLu_MaxPool_list = featureMap_Box_ReLu_MaxPool.tolist()\n",
    "featureMap_Vertical_ReLu_MaxPool_list = featureMap_Diagonal_ReLu_MaxPool.tolist()\n",
    "featureMap_Diagonal_ReLu_MaxPool_list = featureMap_Diagonal_ReLu_MaxPool.tolist()\n",
    "print(featureMap_Box_ReLu_MaxPool_list)\n",
    "print(featureMap_Vertical_ReLu_MaxPool_list)\n",
    "print(featureMap_Diagonal_ReLu_MaxPool_list)\n",
    "print(\"-------------------------------------------------\")\n",
    " \n",
    "# Convert list of list to flat list\n",
    "featureMap_Box_ReLu_MaxPool_FlatList = [item for sublist in featureMap_Box_ReLu_MaxPool_list for item in sublist]\n",
    "featureMap_Vertical_ReLu_MaxPool_FlatList = [item for sublist in featureMap_Vertical_ReLu_MaxPool_list for item in sublist]\n",
    "featureMap_Diagonal_ReLu_MaxPool_FlatList = [item for sublist in featureMap_Diagonal_ReLu_MaxPool_list for item in sublist]\n",
    "print(featureMap_Box_ReLu_MaxPool_FlatList)\n",
    "print(featureMap_Vertical_ReLu_MaxPool_FlatList)\n",
    "print(featureMap_Diagonal_ReLu_MaxPool_FlatList)\n",
    "print(\"-------------------------------------------------\")\n",
    " \n",
    "# Stack all flat list data\n",
    "input_to_basic_neural_network = featureMap_Box_ReLu_MaxPool_FlatList + featureMap_Vertical_ReLu_MaxPool_FlatList + featureMap_Diagonal_ReLu_MaxPool_FlatList\n",
    "\t\n",
    "print(input_to_basic_neural_network)\n",
    "# *******************************************************************************\n",
    "# Output Layer\n",
    "# *******************************************************************************\n",
    " \n",
    "# In this layer you just need to apply basic neural network to input_to_basic_neural_network. You can use sklearn library for this\n",
    "\n",
    "from sklearn.neural_network import MLPClassifier\n",
    "\n",
    "clf = MLPClassifier(hidden_layer_sizes=(4))\n",
    "\n",
    "# etc.\n"
   ]
  }
 ],
 "metadata": {
  "kernelspec": {
   "display_name": "Python 3.9.13 ('functionalenv')",
   "language": "python",
   "name": "python3"
  },
  "language_info": {
   "codemirror_mode": {
    "name": "ipython",
    "version": 3
   },
   "file_extension": ".py",
   "mimetype": "text/x-python",
   "name": "python",
   "nbconvert_exporter": "python",
   "pygments_lexer": "ipython3",
   "version": "3.9.13"
  },
  "orig_nbformat": 4,
  "vscode": {
   "interpreter": {
    "hash": "c3e1b914758c0064768d5b7ded7793eb93afcfd32fe458b7f56104c45072a0c5"
   }
  }
 },
 "nbformat": 4,
 "nbformat_minor": 2
}
