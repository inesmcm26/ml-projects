{
 "cells": [
  {
   "cell_type": "code",
   "execution_count": 1,
   "metadata": {},
   "outputs": [],
   "source": [
    "%store -r X_train\n",
    "%store -r X_test\n",
    "%store -r X_val\n",
    "\n",
    "%store -r y_train\n",
    "%store -r y_val\n",
    "%store -r y_test"
   ]
  },
  {
   "cell_type": "code",
   "execution_count": 2,
   "metadata": {},
   "outputs": [],
   "source": [
    "import tensorflow as tf\n",
    "from keras.models import Sequential\n",
    "from keras.layers import BatchNormalization, Conv2D, Flatten, Dense, Dropout, Activation, ZeroPadding2D, MaxPooling2D\n",
    "from keras import activations\n",
    "from keras.optimizers import SGD"
   ]
  },
  {
   "cell_type": "code",
   "execution_count": 3,
   "metadata": {},
   "outputs": [
    {
     "name": "stderr",
     "output_type": "stream",
     "text": [
      "2022-11-18 14:54:53.463068: I tensorflow/core/platform/cpu_feature_guard.cc:193] This TensorFlow binary is optimized with oneAPI Deep Neural Network Library (oneDNN) to use the following CPU instructions in performance-critical operations:  SSE4.1 SSE4.2 AVX AVX2 FMA\n",
      "To enable them in other operations, rebuild TensorFlow with the appropriate compiler flags.\n",
      "2022-11-18 14:54:53.464279: I tensorflow/core/common_runtime/process_util.cc:146] Creating new thread pool with default inter op setting: 2. Tune using inter_op_parallelism_threads for best performance.\n"
     ]
    }
   ],
   "source": [
    "# model = Sequential([\n",
    "#     ZeroPadding2D((1, 1), input_shape = (48, 48, 1)),\n",
    "#     Conv2D(64, (3,3), activation = 'linear', padding = 'same'),\n",
    "    # BatchNormalization(),\n",
    "#     Activation(activations.relu),\n",
    "#     ZeroPadding2D((1,1)),\n",
    "#     Conv2D(64, (3,3), activation = 'linear', padding = 'same'),\n",
    "    # BatchNormalization(),\n",
    "#     Activation(activations.relu),\n",
    "#     MaxPooling2D((2,2), strides = (2,2)),\n",
    "# ])\n",
    "\n",
    "model = Sequential([\n",
    "    \n",
    "    ZeroPadding2D((1, 1), input_shape = (48, 48, 1)),\n",
    "    Conv2D(64, (3,3), activation = 'relu', padding = 'same'),\n",
    "    # BatchNormalization(),\n",
    "    ZeroPadding2D((1,1)),\n",
    "    Conv2D(64, (3,3), activation = 'relu', padding = 'same'),\n",
    "    # BatchNormalization(),\n",
    "    MaxPooling2D((2, 2), strides=(2,2)),\n",
    "\n",
    "    ZeroPadding2D((1, 1)),\n",
    "    Conv2D(128, (3,3), activation = 'relu', padding = 'same'),\n",
    "    # BatchNormalization(),\n",
    "    ZeroPadding2D((1,1)),\n",
    "    Conv2D(128, (3,3), activation = 'relu', padding = 'same'),\n",
    "    # BatchNormalization(),\n",
    "    MaxPooling2D((2, 2), strides=(2,2)),\n",
    "\n",
    "    ZeroPadding2D((1, 1)),\n",
    "    Conv2D(256, (3,3), activation = 'relu', padding = 'same'),\n",
    "    # BatchNormalization(),\n",
    "    ZeroPadding2D((1,1)),\n",
    "    Conv2D(256, (3,3), activation = 'relu', padding = 'same'),\n",
    "    # BatchNormalization(),\n",
    "    MaxPooling2D((2, 2), strides=(2,2)),\n",
    "\n",
    "    ZeroPadding2D((1, 1)),\n",
    "    Conv2D(512, (3,3), activation = 'relu', padding = 'same'),\n",
    "    # BatchNormalization(),\n",
    "    ZeroPadding2D((1,1)),\n",
    "    Conv2D(512, (3,3), activation = 'relu', padding = 'same'),\n",
    "    # BatchNormalization(),\n",
    "    MaxPooling2D((2, 2), strides=(2,2)),\n",
    "\n",
    "    ZeroPadding2D((1, 1)),\n",
    "    Conv2D(512, (3,3), activation = 'relu', padding = 'same'),\n",
    "    # BatchNormalization(),\n",
    "    ZeroPadding2D((1,1)),\n",
    "    Conv2D(512, (3,3), activation = 'relu', padding = 'same'),\n",
    "    # BatchNormalization(),\n",
    "    MaxPooling2D((2, 2), strides=(2,2)),\n",
    "\n",
    "    Flatten(),\n",
    "    Dense(4096, activation = 'relu'),\n",
    "    # BatchNormalization(),\n",
    "    Dropout(0.5),\n",
    "    Dense(4096, activation = 'relu'),\n",
    "    # BatchNormalization(),\n",
    "    Dropout(0.5),\n",
    "    Dense(7, activation = 'softmax')\n",
    "])\n",
    "\n",
    "model.compile(optimizer='sgd', loss = 'categorical_crossentropy', metrics = ['accuracy'])"
   ]
  },
  {
   "cell_type": "code",
   "execution_count": 4,
   "metadata": {},
   "outputs": [
    {
     "name": "stdout",
     "output_type": "stream",
     "text": [
      "Epoch 1/30\n"
     ]
    }
   ],
   "source": [
    "model.fit(X_train, y_train, batch_size = 32, epochs = 30, validation_data=(X_val, y_val), verbose = 1)"
   ]
  }
 ],
 "metadata": {
  "kernelspec": {
   "display_name": "Python 3.9.13 ('functionalenv')",
   "language": "python",
   "name": "python3"
  },
  "language_info": {
   "codemirror_mode": {
    "name": "ipython",
    "version": 3
   },
   "file_extension": ".py",
   "mimetype": "text/x-python",
   "name": "python",
   "nbconvert_exporter": "python",
   "pygments_lexer": "ipython3",
   "version": "3.9.13"
  },
  "orig_nbformat": 4,
  "vscode": {
   "interpreter": {
    "hash": "c3e1b914758c0064768d5b7ded7793eb93afcfd32fe458b7f56104c45072a0c5"
   }
  }
 },
 "nbformat": 4,
 "nbformat_minor": 2
}
